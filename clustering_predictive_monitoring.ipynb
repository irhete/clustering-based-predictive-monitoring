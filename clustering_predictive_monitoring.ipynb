{
 "cells": [
  {
   "cell_type": "code",
   "execution_count": 1,
   "metadata": {
    "collapsed": false
   },
   "outputs": [],
   "source": [
    "%load_ext autoreload\n",
    "%autoreload 2"
   ]
  },
  {
   "cell_type": "code",
   "execution_count": 2,
   "metadata": {
    "collapsed": true
   },
   "outputs": [],
   "source": [
    "import pandas as pd\n",
    "import time\n",
    "import numpy as np\n",
    "from scipy.stats import itemfreq\n",
    "from ClusteringPredictiveModel import ClusteringPredictiveModel"
   ]
  },
  {
   "cell_type": "code",
   "execution_count": 69,
   "metadata": {
    "collapsed": true
   },
   "outputs": [],
   "source": [
    "data = pd.read_csv(\"data/Road_Traffic_Fine_Management_Process_labeled.csv\", sep=\",\")"
   ]
  },
  {
   "cell_type": "code",
   "execution_count": 73,
   "metadata": {
    "collapsed": false
   },
   "outputs": [
    {
     "data": {
      "text/html": [
       "<div>\n",
       "<table border=\"1\" class=\"dataframe\">\n",
       "  <thead>\n",
       "    <tr style=\"text-align: right;\">\n",
       "      <th></th>\n",
       "      <th>Unnamed: 0</th>\n",
       "      <th>Case ID</th>\n",
       "      <th>Activity</th>\n",
       "      <th>Resource</th>\n",
       "      <th>Complete Timestamp</th>\n",
       "      <th>Variant</th>\n",
       "      <th>amount</th>\n",
       "      <th>article</th>\n",
       "      <th>dismissal</th>\n",
       "      <th>expense</th>\n",
       "      <th>lastSent</th>\n",
       "      <th>lifecycle:transition</th>\n",
       "      <th>matricola</th>\n",
       "      <th>notificationType</th>\n",
       "      <th>paymentAmount</th>\n",
       "      <th>points</th>\n",
       "      <th>totalPaymentAmount</th>\n",
       "      <th>vehicleClass</th>\n",
       "      <th>label</th>\n",
       "    </tr>\n",
       "  </thead>\n",
       "  <tbody>\n",
       "    <tr>\n",
       "      <th>0</th>\n",
       "      <td>0</td>\n",
       "      <td>A1</td>\n",
       "      <td>Create Fine</td>\n",
       "      <td>561.0</td>\n",
       "      <td>2006/07/24 01:00:00.000</td>\n",
       "      <td>Variant 3</td>\n",
       "      <td>35.0</td>\n",
       "      <td>157.0</td>\n",
       "      <td>NIL</td>\n",
       "      <td>NaN</td>\n",
       "      <td>NaN</td>\n",
       "      <td>complete</td>\n",
       "      <td>NaN</td>\n",
       "      <td>NaN</td>\n",
       "      <td>NaN</td>\n",
       "      <td>0.0</td>\n",
       "      <td>0.0</td>\n",
       "      <td>A</td>\n",
       "      <td>negative</td>\n",
       "    </tr>\n",
       "    <tr>\n",
       "      <th>1</th>\n",
       "      <td>1</td>\n",
       "      <td>A1</td>\n",
       "      <td>Send Fine</td>\n",
       "      <td>NaN</td>\n",
       "      <td>2006/12/05 01:00:00.000</td>\n",
       "      <td>Variant 3</td>\n",
       "      <td>NaN</td>\n",
       "      <td>NaN</td>\n",
       "      <td>NaN</td>\n",
       "      <td>11.0</td>\n",
       "      <td>NaN</td>\n",
       "      <td>complete</td>\n",
       "      <td>NaN</td>\n",
       "      <td>NaN</td>\n",
       "      <td>NaN</td>\n",
       "      <td>NaN</td>\n",
       "      <td>NaN</td>\n",
       "      <td>NaN</td>\n",
       "      <td>negative</td>\n",
       "    </tr>\n",
       "    <tr>\n",
       "      <th>2</th>\n",
       "      <td>2</td>\n",
       "      <td>A100</td>\n",
       "      <td>Create Fine</td>\n",
       "      <td>561.0</td>\n",
       "      <td>2006/08/02 01:00:00.000</td>\n",
       "      <td>Variant 1</td>\n",
       "      <td>35.0</td>\n",
       "      <td>157.0</td>\n",
       "      <td>NIL</td>\n",
       "      <td>NaN</td>\n",
       "      <td>NaN</td>\n",
       "      <td>complete</td>\n",
       "      <td>NaN</td>\n",
       "      <td>NaN</td>\n",
       "      <td>NaN</td>\n",
       "      <td>0.0</td>\n",
       "      <td>0.0</td>\n",
       "      <td>A</td>\n",
       "      <td>negative</td>\n",
       "    </tr>\n",
       "    <tr>\n",
       "      <th>3</th>\n",
       "      <td>3</td>\n",
       "      <td>A100</td>\n",
       "      <td>Send Fine</td>\n",
       "      <td>NaN</td>\n",
       "      <td>2006/12/12 01:00:00.000</td>\n",
       "      <td>Variant 1</td>\n",
       "      <td>NaN</td>\n",
       "      <td>NaN</td>\n",
       "      <td>NaN</td>\n",
       "      <td>11.0</td>\n",
       "      <td>NaN</td>\n",
       "      <td>complete</td>\n",
       "      <td>NaN</td>\n",
       "      <td>NaN</td>\n",
       "      <td>NaN</td>\n",
       "      <td>NaN</td>\n",
       "      <td>NaN</td>\n",
       "      <td>NaN</td>\n",
       "      <td>negative</td>\n",
       "    </tr>\n",
       "    <tr>\n",
       "      <th>4</th>\n",
       "      <td>4</td>\n",
       "      <td>A100</td>\n",
       "      <td>Insert Fine Notification</td>\n",
       "      <td>NaN</td>\n",
       "      <td>2007/01/15 01:00:00.000</td>\n",
       "      <td>Variant 1</td>\n",
       "      <td>NaN</td>\n",
       "      <td>NaN</td>\n",
       "      <td>NaN</td>\n",
       "      <td>NaN</td>\n",
       "      <td>P</td>\n",
       "      <td>complete</td>\n",
       "      <td>NaN</td>\n",
       "      <td>P</td>\n",
       "      <td>NaN</td>\n",
       "      <td>NaN</td>\n",
       "      <td>NaN</td>\n",
       "      <td>NaN</td>\n",
       "      <td>negative</td>\n",
       "    </tr>\n",
       "  </tbody>\n",
       "</table>\n",
       "</div>"
      ],
      "text/plain": [
       "   Unnamed: 0 Case ID                  Activity  Resource  \\\n",
       "0           0      A1               Create Fine     561.0   \n",
       "1           1      A1                 Send Fine       NaN   \n",
       "2           2    A100               Create Fine     561.0   \n",
       "3           3    A100                 Send Fine       NaN   \n",
       "4           4    A100  Insert Fine Notification       NaN   \n",
       "\n",
       "        Complete Timestamp    Variant  amount  article dismissal  expense  \\\n",
       "0  2006/07/24 01:00:00.000  Variant 3    35.0    157.0       NIL      NaN   \n",
       "1  2006/12/05 01:00:00.000  Variant 3     NaN      NaN       NaN     11.0   \n",
       "2  2006/08/02 01:00:00.000  Variant 1    35.0    157.0       NIL      NaN   \n",
       "3  2006/12/12 01:00:00.000  Variant 1     NaN      NaN       NaN     11.0   \n",
       "4  2007/01/15 01:00:00.000  Variant 1     NaN      NaN       NaN      NaN   \n",
       "\n",
       "  lastSent lifecycle:transition  matricola notificationType  paymentAmount  \\\n",
       "0      NaN             complete        NaN              NaN            NaN   \n",
       "1      NaN             complete        NaN              NaN            NaN   \n",
       "2      NaN             complete        NaN              NaN            NaN   \n",
       "3      NaN             complete        NaN              NaN            NaN   \n",
       "4        P             complete        NaN                P            NaN   \n",
       "\n",
       "   points  totalPaymentAmount vehicleClass     label  \n",
       "0     0.0                 0.0            A  negative  \n",
       "1     NaN                 NaN          NaN  negative  \n",
       "2     0.0                 0.0            A  negative  \n",
       "3     NaN                 NaN          NaN  negative  \n",
       "4     NaN                 NaN          NaN  negative  "
      ]
     },
     "execution_count": 73,
     "metadata": {},
     "output_type": "execute_result"
    }
   ],
   "source": [
    "data.head()"
   ]
  },
  {
   "cell_type": "code",
   "execution_count": 6,
   "metadata": {
    "collapsed": true
   },
   "outputs": [],
   "source": [
    "case_id_col = \"Case ID\"\n",
    "event_col = \"Activity\"\n",
    "timestamp_col = \"Complete Timestamp\"\n",
    "label_col = 'label'\n",
    "cat_cols = ['Resource', 'Variant', 'article', 'dismissal', 'lastSent', 'matricola', 'notificationType', 'vehicleClass']\n",
    "numeric_cols = ['amount', 'expense', 'paymentAmount', 'points', 'totalPaymentAmount', label_col]\n",
    "\n",
    "n_clusters = 4"
   ]
  },
  {
   "cell_type": "code",
   "execution_count": 26,
   "metadata": {
    "collapsed": false
   },
   "outputs": [],
   "source": [
    "model = ClusteringPredictiveModel(case_id_col, event_col, label_col, timestamp_col, cat_cols, numeric_cols, n_clusters=n_clusters, n_estimators=100, random_state=22, fillna=True)"
   ]
  },
  {
   "cell_type": "code",
   "execution_count": 28,
   "metadata": {
    "collapsed": false
   },
   "outputs": [
    {
     "data": {
      "text/plain": [
       "<ClusteringPredictiveModel.ClusteringPredictiveModel at 0x7f50f6d4d400>"
      ]
     },
     "execution_count": 28,
     "metadata": {},
     "output_type": "execute_result"
    }
   ],
   "source": [
    "model.fit(data.head(100))"
   ]
  },
  {
   "cell_type": "code",
   "execution_count": 54,
   "metadata": {
    "collapsed": false
   },
   "outputs": [],
   "source": [
    "preds = model.predict_proba(data.head(100))"
   ]
  },
  {
   "cell_type": "code",
   "execution_count": 59,
   "metadata": {
    "collapsed": false
   },
   "outputs": [
    {
     "data": {
      "text/html": [
       "<div>\n",
       "<table border=\"1\" class=\"dataframe\">\n",
       "  <thead>\n",
       "    <tr style=\"text-align: right;\">\n",
       "      <th></th>\n",
       "      <th>Case ID</th>\n",
       "      <th>negative</th>\n",
       "      <th>positive</th>\n",
       "    </tr>\n",
       "  </thead>\n",
       "  <tbody>\n",
       "    <tr>\n",
       "      <th>0</th>\n",
       "      <td>A1</td>\n",
       "      <td>0.93</td>\n",
       "      <td>0.07</td>\n",
       "    </tr>\n",
       "    <tr>\n",
       "      <th>1</th>\n",
       "      <td>A10005</td>\n",
       "      <td>0.00</td>\n",
       "      <td>1.00</td>\n",
       "    </tr>\n",
       "    <tr>\n",
       "      <th>2</th>\n",
       "      <td>A10007</td>\n",
       "      <td>0.00</td>\n",
       "      <td>1.00</td>\n",
       "    </tr>\n",
       "    <tr>\n",
       "      <th>3</th>\n",
       "      <td>A10012</td>\n",
       "      <td>0.93</td>\n",
       "      <td>0.07</td>\n",
       "    </tr>\n",
       "    <tr>\n",
       "      <th>4</th>\n",
       "      <td>A10022</td>\n",
       "      <td>0.05</td>\n",
       "      <td>0.95</td>\n",
       "    </tr>\n",
       "  </tbody>\n",
       "</table>\n",
       "</div>"
      ],
      "text/plain": [
       "  Case ID  negative  positive\n",
       "0      A1      0.93      0.07\n",
       "1  A10005      0.00      1.00\n",
       "2  A10007      0.00      1.00\n",
       "3  A10012      0.93      0.07\n",
       "4  A10022      0.05      0.95"
      ]
     },
     "execution_count": 59,
     "metadata": {},
     "output_type": "execute_result"
    }
   ],
   "source": [
    "preds.head()"
   ]
  },
  {
   "cell_type": "code",
   "execution_count": 60,
   "metadata": {
    "collapsed": false
   },
   "outputs": [
    {
     "data": {
      "text/html": [
       "<div>\n",
       "<table border=\"1\" class=\"dataframe\">\n",
       "  <thead>\n",
       "    <tr style=\"text-align: right;\">\n",
       "      <th></th>\n",
       "      <th>Case ID</th>\n",
       "      <th>negative</th>\n",
       "      <th>positive</th>\n",
       "    </tr>\n",
       "  </thead>\n",
       "  <tbody>\n",
       "    <tr>\n",
       "      <th>0</th>\n",
       "      <td>A1</td>\n",
       "      <td>1.0</td>\n",
       "      <td>0.0</td>\n",
       "    </tr>\n",
       "    <tr>\n",
       "      <th>1</th>\n",
       "      <td>A10005</td>\n",
       "      <td>0.0</td>\n",
       "      <td>1.0</td>\n",
       "    </tr>\n",
       "    <tr>\n",
       "      <th>2</th>\n",
       "      <td>A10007</td>\n",
       "      <td>0.0</td>\n",
       "      <td>1.0</td>\n",
       "    </tr>\n",
       "    <tr>\n",
       "      <th>3</th>\n",
       "      <td>A10012</td>\n",
       "      <td>1.0</td>\n",
       "      <td>0.0</td>\n",
       "    </tr>\n",
       "    <tr>\n",
       "      <th>4</th>\n",
       "      <td>A10022</td>\n",
       "      <td>0.0</td>\n",
       "      <td>1.0</td>\n",
       "    </tr>\n",
       "  </tbody>\n",
       "</table>\n",
       "</div>"
      ],
      "text/plain": [
       "  Case ID  negative  positive\n",
       "0      A1       1.0       0.0\n",
       "1  A10005       0.0       1.0\n",
       "2  A10007       0.0       1.0\n",
       "3  A10012       1.0       0.0\n",
       "4  A10022       0.0       1.0"
      ]
     },
     "execution_count": 60,
     "metadata": {},
     "output_type": "execute_result"
    }
   ],
   "source": [
    "model.actual.head()"
   ]
  },
  {
   "cell_type": "code",
   "execution_count": null,
   "metadata": {
    "collapsed": true
   },
   "outputs": [],
   "source": []
  }
 ],
 "metadata": {
  "anaconda-cloud": {},
  "kernelspec": {
   "display_name": "Python [conda env:latte]",
   "language": "python",
   "name": "conda-env-latte-py"
  },
  "language_info": {
   "codemirror_mode": {
    "name": "ipython",
    "version": 3
   },
   "file_extension": ".py",
   "mimetype": "text/x-python",
   "name": "python",
   "nbconvert_exporter": "python",
   "pygments_lexer": "ipython3",
   "version": "3.5.2"
  }
 },
 "nbformat": 4,
 "nbformat_minor": 1
}
